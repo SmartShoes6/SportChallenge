{
 "cells": [
  {
   "cell_type": "code",
   "execution_count": 4,
   "id": "62a52d07",
   "metadata": {},
   "outputs": [
    {
     "name": "stdout",
     "output_type": "stream",
     "text": [
      "\n",
      "Accuracy of Model 1: 0.896 \n",
      "\n",
      "entered variables:\n",
      "    O2Level   HR  period\n",
      "0       48   50      96\n",
      "1       98   54      38\n",
      "2       73  123      78\n",
      "status:\n",
      " [['Risk']\n",
      " ['Normal']\n",
      " ['Normal']]\n"
     ]
    },
    {
     "name": "stderr",
     "output_type": "stream",
     "text": [
      "C:\\Users\\gff0g\\anaconda3\\lib\\site-packages\\sklearn\\base.py:443: UserWarning: X has feature names, but SVC was fitted without feature names\n",
      "  warnings.warn(\n"
     ]
    },
    {
     "name": "stdout",
     "output_type": "stream",
     "text": [
      "\n",
      ".........................\n",
      "\n",
      "Accuracy of Model2: 0.82\n",
      "entered variables:\n",
      "    R1     L1  R2     L2  R3     L3  R4     L4  R5     L5  R6     L6\n",
      "0  92  89.24  32  31.36  73  72.00  17  16.80  19  18.43  39  38.00\n",
      "1  38  40.28  56  57.12  18  17.64  71  50.41   9  14.58  28  42.56\n",
      "2   2   1.00  82  88.00  54  58.86  53  55.65  83  78.02  65  68.25\n",
      "status:\n",
      " [['Risk']\n",
      " ['Risk']\n",
      " ['Abnormal']]\n"
     ]
    },
    {
     "name": "stderr",
     "output_type": "stream",
     "text": [
      "C:\\Users\\gff0g\\anaconda3\\lib\\site-packages\\sklearn\\base.py:443: UserWarning: X has feature names, but RandomForestClassifier was fitted without feature names\n",
      "  warnings.warn(\n"
     ]
    }
   ],
   "source": [
    "import pandas as pd\n",
    "import numpy as np\n",
    "from sklearn.model_selection import train_test_split\n",
    "from sklearn import svm\n",
    "from sklearn.ensemble import RandomForestClassifier\n",
    "from sklearn.metrics import accuracy_score\n",
    "\n",
    "# Muscle Condition Model\n",
    "\n",
    "#1-Read in data \n",
    "features1 = pd.read_csv(\"C:/Users/gff0g/Documents/sport/TrainingDataset1.csv\")\n",
    "#2-spliting target (values we want to predict) of other features\n",
    "labels1 = np.array(features1[\"status\"]) #\"status\" is the name of the label colmun\n",
    "features1 = features1.drop(\"status\",axis =1) #separating features cloumns from the total dataset\n",
    "\n",
    "#3-convert to numby array\n",
    "features1 = np.array(features1)\n",
    "\n",
    "#4-spliting data into training and testing sets\n",
    "train_features1, test_features1, train_labels1, test_labels1 = train_test_split(features1,\n",
    "                                                                            labels1,\n",
    "                                                                            test_size=0.25,\n",
    "                                                                           random_state=42)\n",
    "\n",
    "#5-Train the model\n",
    "model1 = svm.SVC(kernel='rbf') #creating a model using Support Victor Classification algorithim\n",
    "model1.fit(train_features1,train_labels1) # training the model\n",
    "\n",
    "#6- Predict the model for calculating accuracy\n",
    "predictions1 = model1.predict(test_features1)\n",
    "accuracy1 = accuracy_score(test_labels1, predictions1)\n",
    "print(\"\\nAccuracy of Model 1: \" + str(accuracy1),\"\\n\")\n",
    "\n",
    "#7- Using the model for predicting actual data\n",
    "actual_prediction1=pd.read_csv(\"C:/Users/gff0g/Documents/sport/ActualData1.csv\") \n",
    "result1= model1.predict(actual_prediction1) # prdicting result for the datset\n",
    "result1=result1.reshape([3,1])\n",
    "print(\"entered variables:\\n\", actual_prediction1)\n",
    "print(\"status:\\n\", result1)\n",
    "\n",
    "#Pressure sensors Model: \n",
    "\n",
    "#1-Read in data      \n",
    "features2 = pd.read_csv(\"C:/Users/gff0g/Documents/sport/TrainingDataset2.csv\")\n",
    "\n",
    "#2-spliting target (values we want to predict) of other features\n",
    "\n",
    "labels2 = np.array(features2[\"Status\"])#\"status\" is the name of the label colmun\n",
    "        \n",
    "features2 = features2.drop(\"Status\",axis =1) #separating features cloumns from the total dataset\n",
    "\n",
    "#3-convert to numby array\n",
    "features2 = np.array(features2)\n",
    "\n",
    "#4-spliting data into training and testing sets\n",
    "train_features2, test_features2, train_labels2, test_labels2 = train_test_split(features2,\n",
    "                                                                                labels2,\n",
    "                                                                                test_size=0.1,\n",
    "                                                                                random_state=40)\n",
    "\n",
    "#5-Train the model\n",
    "model2 = RandomForestClassifier(n_estimators=500,\n",
    "                                random_state=0,\n",
    "                                max_depth=25,\n",
    "                                max_leaf_nodes=60)\n",
    "                \n",
    "model2.fit(train_features2, train_labels2)\n",
    "\n",
    "#6- Predict the model for calculating accuracy\n",
    "predictions2 = model2.predict(test_features2)\n",
    "accuracy2 = accuracy_score(test_labels2, predictions2)\n",
    "print(\"\\n.........................\\n\")\n",
    "print(\"Accuracy of Model2: \" + str(accuracy2))\n",
    "\n",
    "#7- Using the model for predicting actual data\n",
    "actual_prediction2=pd.read_csv(\"C:/Users/gff0g/Documents/sport/ActualData2.csv\")\n",
    "result2= model2.predict(actual_prediction2)\n",
    "result2=result2.reshape([3,1])\n",
    "print(\"entered variables:\\n\", actual_prediction2) \n",
    "print(\"status:\\n\", result2)"
   ]
  }
 ],
 "metadata": {
  "kernelspec": {
   "display_name": "Python 3 (ipykernel)",
   "language": "python",
   "name": "python3"
  },
  "language_info": {
   "codemirror_mode": {
    "name": "ipython",
    "version": 3
   },
   "file_extension": ".py",
   "mimetype": "text/x-python",
   "name": "python",
   "nbconvert_exporter": "python",
   "pygments_lexer": "ipython3",
   "version": "3.9.12"
  }
 },
 "nbformat": 4,
 "nbformat_minor": 5
}
